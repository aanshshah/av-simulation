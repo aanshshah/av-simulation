{
 "cells": [
  {
   "cell_type": "markdown",
   "id": "cell-0",
   "metadata": {},
   "source": [
    "# 🚗 AV Simulation Runner - Google Colab\n",
    "\n",
    "This notebook demonstrates how to run the Autonomous Vehicle Simulation on Google Colab with data collection and visualization.\n",
    "\n",
    "[![Open In Colab](https://colab.research.google.com/assets/colab-badge.svg)](https://colab.research.google.com/github/aanshshah/av-simulation/blob/main/examples/notebooks/02_simulation_runner.ipynb)"
   ]
  },
  {
   "cell_type": "markdown",
   "id": "cell-1",
   "metadata": {},
   "source": [
    "## Setup Environment"
   ]
  },
  {
   "cell_type": "code",
   "execution_count": null,
   "id": "cell-2",
   "metadata": {},
   "outputs": [],
   "source": [
    "# Setup virtual display\n",
    "from pyvirtualdisplay import Display\n",
    "import os\n",
    "\n",
    "display = Display(visible=0, size=(1200, 800))\n",
    "display.start()\n",
    "os.environ['DISPLAY'] = ':' + str(display.display)\n",
    "\n",
    "print('✅ Virtual display ready')"
   ]
  },
  {
   "cell_type": "markdown",
   "id": "cell-3",
   "metadata": {},
   "source": [
    "## Run Simulation"
   ]
  },
  {
   "cell_type": "code",
   "execution_count": null,
   "id": "cell-4",
   "metadata": {},
   "outputs": [],
   "source": [
    "# Import simulation modules\n",
    "from av_simulation.core.simulation import Simulation\n",
    "from av_simulation.data.repository import DataRepository\n",
    "\n",
    "# Create and run simulation\n",
    "sim = Simulation(enable_data_collection=True)\n",
    "data = sim.run_simulation(duration=60)\n",
    "\n",
    "print('🚗 Simulation completed!')"
   ]
  },
  {
   "cell_type": "markdown",
   "id": "cell-5",
   "metadata": {},
   "source": [
    "## View Results"
   ]
  },
  {
   "cell_type": "code",
   "execution_count": null,
   "id": "cell-6",
   "metadata": {},
   "outputs": [],
   "source": [
    "# Display simulation results\n",
    "import matplotlib.pyplot as plt\n",
    "\n",
    "# Plot some basic metrics\n",
    "if data:\n",
    "    plt.figure(figsize=(10, 6))\n",
    "    plt.plot(data.timestamps, data.speeds)\n",
    "    plt.title('Vehicle Speed Over Time')\n",
    "    plt.xlabel('Time (s)')\n",
    "    plt.ylabel('Speed (m/s)')\n",
    "    plt.show()\n",
    "else:\n",
    "    print('No data collected')"
   ]
  }
 ],
 "metadata": {
  "colab": {
   "provenance": [],
   "toc_visible": true
  },
  "kernelspec": {
   "display_name": "Python 3",
   "name": "python3"
  },
  "language_info": {
   "name": "python"
  }
 },
 "nbformat": 4,
 "nbformat_minor": 5
}
