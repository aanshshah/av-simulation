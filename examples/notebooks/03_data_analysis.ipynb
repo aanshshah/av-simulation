{
 "cells": [
  {
   "cell_type": "markdown",
   "id": "cell-0",
   "metadata": {},
   "source": [
    "# 📊 AV Simulation Data Analysis\n",
    "\n",
    "Analyze simulation data collected from AV simulation runs.\n",
    "\n",
    "[![Open In Colab](https://colab.research.google.com/assets/colab-badge.svg)](https://colab.research.google.com/github/aanshshah/av-simulation/blob/main/examples/notebooks/03_data_analysis.ipynb)"
   ]
  },
  {
   "cell_type": "markdown",
   "id": "cell-1",
   "metadata": {},
   "source": [
    "## Load Libraries"
   ]
  },
  {
   "cell_type": "code",
   "execution_count": null,
   "id": "cell-2",
   "metadata": {},
   "outputs": [],
   "source": [
    "import pandas as pd\n",
    "import numpy as np\n",
    "import matplotlib.pyplot as plt\n",
    "import seaborn as sns\n",
    "from av_simulation.data.repository import DataRepository\n",
    "from av_simulation.data.exporters import CSVExporter\n",
    "\n",
    "print('✅ Libraries loaded')"
   ]
  },
  {
   "cell_type": "markdown",
   "id": "cell-3",
   "metadata": {},
   "source": [
    "## Load Data"
   ]
  },
  {
   "cell_type": "code",
   "execution_count": null,
   "id": "cell-4",
   "metadata": {},
   "outputs": [],
   "source": [
    "# Load simulation data\n",
    "repo = DataRepository('/content/simulation_data')\n",
    "runs = repo.list_runs()\n",
    "\n",
    "print(f'Found {len(runs)} simulation runs')\n",
    "for run_id in runs[:5]:  # Show first 5\n",
    "    print(f'  - {run_id}')"
   ]
  },
  {
   "cell_type": "markdown",
   "id": "cell-5",
   "metadata": {},
   "source": [
    "## Analyze Performance"
   ]
  },
  {
   "cell_type": "code",
   "execution_count": null,
   "id": "cell-6",
   "metadata": {},
   "outputs": [],
   "source": [
    "# Analyze vehicle performance\n",
    "if runs:\n",
    "    latest_run = runs[0]\n",
    "    data = repo.get_run_data(latest_run)\n",
    "    \n",
    "    # Basic statistics\n",
    "    print('📈 Performance Metrics:')\n",
    "    print(f'  Average Speed: {np.mean(data.speeds):.2f} m/s')\n",
    "    print(f'  Max Speed: {np.max(data.speeds):.2f} m/s')\n",
    "    print(f'  Total Distance: {np.sum(data.distances):.2f} m')\n",
    "else:\n",
    "    print('❌ No data available')"
   ]
  }
 ],
 "metadata": {
  "colab": {
   "provenance": [],
   "toc_visible": true
  },
  "kernelspec": {
   "display_name": "Python 3",
   "name": "python3"
  },
  "language_info": {
   "name": "python"
  }
 },
 "nbformat": 4,
 "nbformat_minor": 5
}
