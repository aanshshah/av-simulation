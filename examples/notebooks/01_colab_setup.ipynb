{
 "cells": [
  {
   "cell_type": "markdown",
   "metadata": {
    "id": "setup_title"
   },
   "source": [
    "# 🚗 AV Simulation on Google Colab - Setup Guide\n",
    "\n",
    "This notebook walks you through setting up the Autonomous Vehicle Simulation system on Google Colab. \n",
    "\n",
    "[![Open In Colab](https://colab.research.google.com/assets/colab-badge.svg)](https://colab.research.google.com/github/YOUR_USERNAME/av-simulation/blob/main/examples/notebooks/01_colab_setup.ipynb)\n",
    "\n",
    "## 📋 What You'll Learn\n",
    "- How to install the AV simulation on Colab\n",
    "- Setting up the virtual display for GUI applications\n",
    "- Running your first simulation\n",
    "- Accessing simulation data\n",
    "\n",
    "## ⚡ Prerequisites\n",
    "- Google account for Colab access\n",
    "- Basic Python knowledge\n",
    "- Understanding of Jupyter notebooks"
   ]
  },
  {
   "cell_type": "markdown",
   "metadata": {
    "id": "step1_header"
   },
   "source": [
    "## 🔧 Step 1: Environment Setup"
   ]
  },
  {
   "cell_type": "code",
   "execution_count": null,
   "metadata": {
    "id": "install_system_deps"
   },
   "outputs": [],
   "source": [
    "# Install system dependencies for pygame and display\n",
    "!apt-get update\n",
    "!apt-get install -y xvfb python3-opengl ffmpeg\n",
    "\n",
    "# Install Python packages\n",
    "!pip install pygame pandas numpy matplotlib seaborn plotly scipy scikit-learn\n",
    "!pip install pyvirtualdisplay pillow\n",
    "\n",
    "print(\"✅ System dependencies installed successfully!\")"
   ]
  },
  {
   "cell_type": "markdown",
   "metadata": {
    "id": "step2_header"
   },
   "source": [
    "## 📥 Step 2: Download AV Simulation Code"
   ]
  },
  {
   "cell_type": "code",
   "execution_count": null,
   "metadata": {
    "id": "download_code"
   },
   "outputs": [],
   "source": [
    "# Option 1: Clone from GitHub (if available)\n",
    "# !git clone https://github.com/YOUR_USERNAME/av-simulation.git\n",
    "# %cd av-simulation\n",
    "\n",
    "# Option 2: Upload manually or create the structure\n",
    "import os\n",
    "import sys\n",
    "\n",
    "# Create project structure\n",
    "!mkdir -p av_simulation/src/av_simulation/{core,data,detection,planning}\n",
    "!mkdir -p av_simulation/examples/{notebooks,data,utils}\n",
    "!mkdir -p av_simulation/simulation_data\n",
    "\n",
    "print(\"📁 Project structure created!\")\n",
    "print(\"📝 Note: You'll need to upload the simulation files manually or clone from GitHub\")"
   ]
  },
  {
   "cell_type": "markdown",
   "metadata": {
    "id": "step3_header"
   },
   "source": [
    "## 🖥️ Step 3: Setup Virtual Display\n",
    "\n",
    "Since Colab doesn't have a display, we need to create a virtual one for pygame."
   ]
  },
  {
   "cell_type": "code",
   "execution_count": null,
   "metadata": {
    "id": "setup_display"
   },
   "outputs": [],
   "source": [
    "from pyvirtualdisplay import Display\n",
    "import pygame\n",
    "import os\n",
    "\n",
    "# Start virtual display\n",
    "display = Display(visible=0, size=(1200, 800))\n",
    "display.start()\n",
    "\n",
    "# Set display environment variable\n",
    "os.environ['DISPLAY'] = ':' + str(display.display)\n",
    "\n",
    "# Test pygame initialization\n",
    "try:\n",
    "    pygame.init()\n",
    "    screen = pygame.display.set_mode((800, 600))\n",
    "    pygame.quit()\n",
    "    print(\"✅ Virtual display setup successful!\")\n",
    "    print(f\"🖥️  Display: {os.environ.get('DISPLAY')}\")\nexcept Exception as e:\n",
    "    print(f\"❌ Display setup failed: {e}\")"
   ]
  },
  {
   "cell_type": "markdown",
   "metadata": {
    "id": "step4_header"
   },
   "source": [
    "## 📝 Step 4: Create Helper Functions for Colab"
   ]
  },
  {
   "cell_type": "code",
   "execution_count": null,
   "metadata": {
    "id": "helper_functions"
   },
   "outputs": [],
   "source": [
    "import threading\n",
    "import time\n",
    "import io\n",
    "from PIL import Image\n",
    "import matplotlib.pyplot as plt\n",
    "import numpy as np\n",
    "\n",
    "class ColabSimulationRunner:\n",
    "    \"\"\"Helper class to run simulations in Colab environment\"\"\"\n",
    "    \n",
    "    def __init__(self):\n",
    "        self.simulation = None\n",
    "        self.running = False\n",
    "        self.thread = None\n",
    "        self.screenshots = []\n",
    "        \n",
    "    def capture_screenshot(self, screen):\n",
    "        \"\"\"Capture pygame screen as image\"\"\"\n",
    "        w, h = screen.get_size()\n",
    "        raw = pygame.image.tostring(screen, 'RGB')\n",
    "        image = Image.frombytes('RGB', (w, h), raw)\n",
    "        return image\n",
    "    \n",
    "    def run_headless_simulation(self, duration=30, capture_interval=2):\n",
    "        \"\"\"Run simulation without display for data collection\"\"\"\n",
    "        from av_simulation.core.simulation import Simulation\n",
    "        \n",
    "        # Create simulation with data collection enabled\n",
    "        sim = Simulation(enable_data_collection=True)\n",
    "        \n",
    "        start_time = time.time()\n",
    "        last_capture = 0\n",
    "        \n",
    "        print(f\"🚀 Starting {duration}s simulation...\")\n",
    "        \n",
    "        while time.time() - start_time < duration:\n",
    "            # Run one simulation step\n",
    "            current_time = time.time() - start_time\n",
    "            \n",
    "            # Handle events (automated)\n",
    "            for event in pygame.event.get():\n",
    "                if event.type == pygame.QUIT:\n",
    "                    break\n",
    "            \n",
    "            # Update simulation\n",
    "            if sim.current_env.ego_vehicle:\n",
    "                action = sim.planner.plan_action(sim.current_env.ego_vehicle)\n",
    "                sim.current_env.ego_vehicle.set_action(action)\n",
    "            \n",
    "            sim.current_env.step(1.0/60)  # 60 FPS\n",
    "            \n",
    "            # Collect data\n",
    "            if sim.data_collection_enabled:\n",
    "                sim.collect_simulation_data()\n",
    "            \n",
    "            # Capture screenshot periodically\n",
    "            if current_time - last_capture >= capture_interval:\n",
    "                sim.current_env.draw(sim.screen)\n",
    "                sim.draw_hud()\n",
    "                pygame.display.flip()\n",
    "                \n",
    "                screenshot = self.capture_screenshot(sim.screen)\n",
    "                self.screenshots.append((current_time, screenshot))\n",
    "                last_capture = current_time\n",
    "                \n",
    "                print(f\"📸 Captured screenshot at {current_time:.1f}s\")\n",
    "            \n",
    "            time.sleep(1/60)  # Maintain 60 FPS\n",
    "        \n",
    "        # Save final simulation data\n",
    "        if sim.data_collection_enabled and sim.current_run_id:\n",
    "            sim.data_repository.end_current_run()\n",
    "            print(f\"💾 Simulation data saved: {sim.current_run_id}\")\n",
    "        \n",
    "        pygame.quit()\n",
    "        return sim.data_repository if sim.data_collection_enabled else None\n",
    "    \n",
    "    def show_screenshots(self, max_images=6):\n",
    "        \"\"\"Display captured screenshots\"\"\"\n",
    "        if not self.screenshots:\n",
    "            print(\"No screenshots captured\")\n",
    "            return\n",
    "        \n",
    "        n_images = min(len(self.screenshots), max_images)\n",
    "        cols = 3\n",
    "        rows = (n_images + cols - 1) // cols\n",
    "        \n",
    "        fig, axes = plt.subplots(rows, cols, figsize=(15, 5*rows))\n",
    "        if rows == 1:\n",
    "            axes = [axes] if cols == 1 else axes\n",
    "        else:\n",
    "            axes = axes.flatten()\n",
    "        \n",
    "        for i in range(n_images):\n",
    "            timestamp, image = self.screenshots[i]\n",
    "            axes[i].imshow(image)\n",
    "            axes[i].set_title(f\"t = {timestamp:.1f}s\")\n",
    "            axes[i].axis('off')\n",
    "        \n",
    "        # Hide empty subplots\n",
    "        for i in range(n_images, len(axes)):\n",
    "            axes[i].axis('off')\n",
    "        \n",
    "        plt.tight_layout()\n",
    "        plt.show()\n",
    "\n",
    "# Create global runner instance\n",
    "colab_runner = ColabSimulationRunner()\n",
    "\n",
    "print(\"✅ Colab helper functions created!\")"
   ]
  },
  {
   "cell_type": "markdown",
   "metadata": {
    "id": "step5_header"
   },
   "source": [
    "## 🎮 Step 5: Test Basic Pygame Functionality"
   ]
  },
  {
   "cell_type": "code",
   "execution_count": null,
   "metadata": {
    "id": "test_pygame"
   },
   "outputs": [],
   "source": [
    "import pygame\n",
    "import matplotlib.pyplot as plt\n",
    "from PIL import Image\n",
    "\n",
    "# Test pygame with virtual display\n",
    "pygame.init()\n",
    "screen = pygame.display.set_mode((400, 300))\n",
    "pygame.display.set_caption(\"AV Simulation Test\")\n",
    "\n",
    "# Draw a simple test pattern\n",
    "screen.fill((50, 50, 50))  # Dark gray background\n",
    "pygame.draw.circle(screen, (0, 255, 0), (100, 150), 30)  # Green circle (ego vehicle)\n",
    "pygame.draw.circle(screen, (0, 100, 255), (300, 150), 25)  # Blue circle (other vehicle)\n",
    "pygame.draw.rect(screen, (255, 255, 0), (50, 100, 300, 10))  # Yellow road marking\n",
    "\n",
    "pygame.display.flip()\n",
    "\n",
    "# Capture and display the test image\n",
    "w, h = screen.get_size()\n",
    "raw = pygame.image.tostring(screen, 'RGB')\n",
    "image = Image.frombytes('RGB', (w, h), raw)\n",
    "\n",
    "pygame.quit()\n",
    "\n",
    "# Display the captured image\n",
    "plt.figure(figsize=(8, 6))\n",
    "plt.imshow(image)\n",
    "plt.title(\"🎮 Pygame Test - Virtual Display Working!\")\n",
    "plt.axis('off')\n",
    "plt.show()\n",
    "\n",
    "print(\"✅ Pygame test successful! Ready for AV simulation.\")"
   ]
  },
  {
   "cell_type": "markdown",
   "metadata": {
    "id": "step6_header"
   },
   "source": [
    "## 📁 Step 6: Create Simulation Files Structure\n",
    "\n",
    "**Note:** In a real setup, you would upload your simulation files or clone from GitHub. For this demo, we'll create placeholder files."
   ]
  },
  {
   "cell_type": "code",
   "execution_count": null,
   "metadata": {
    "id": "create_structure"
   },
   "outputs": [],
   "source": [
    "# Create necessary __init__.py files\n",
    "init_files = [\n",
    "    'av_simulation/src/av_simulation/__init__.py',\n",
    "    'av_simulation/src/av_simulation/core/__init__.py',\n",
    "    'av_simulation/src/av_simulation/data/__init__.py',\n",
    "    'av_simulation/src/av_simulation/detection/__init__.py',\n",
    "    'av_simulation/src/av_simulation/planning/__init__.py'\n",
    "]\n",
    "\n",
    "for init_file in init_files:\n",
    "    os.makedirs(os.path.dirname(init_file), exist_ok=True)\n",
    "    with open(init_file, 'w') as f:\n",
    "        f.write('# Package initialization\\n')\n",
    "\n",
    "# Add to Python path\n",
    "import sys\n",
    "sys.path.insert(0, '/content/av_simulation/src')\n",
    "\n",
    "print(\"📁 File structure created!\")\n",
    "print(\"📝 Upload your simulation files to the av_simulation/ directory\")\n",
    "print(\"🔗 Or clone from GitHub: git clone https://github.com/YOUR_USERNAME/av-simulation.git\")"
   ]
  },
  {
   "cell_type": "markdown",
   "metadata": {
    "id": "step7_header"
   },
   "source": [
    "## 🚀 Step 7: Quick Simulation Test\n",
    "\n",
    "Once you have uploaded the simulation files, run this cell to test the system:"
   ]
  },
  {
   "cell_type": "code",
   "execution_count": null,
   "metadata": {
    "id": "quick_test"
   },
   "outputs": [],
   "source": [
    "# This cell assumes you have uploaded the complete simulation code\n",
    "\n",
    "try:\n",
    "    # Test import\n",
    "    from av_simulation.data.repository import DataRepository\n",
    "    from av_simulation.data.exporters import CSVExporter, JSONExporter\n",
    "    \n",
    "    # Create test repository\n",
    "    repo = DataRepository(\"/content/test_simulation_data\")\n",
    "    \n",
    "    print(\"✅ AV Simulation imports successful!\")\n",
    "    print(\"🚗 Ready to run simulations!\")\n",
    "    \n",
    "    # Show next steps\n",
    "    print(\"\\n📋 Next Steps:\")\n",
    "    print(\"1. Open '02_simulation_runner.ipynb' to run simulations\")\n",
    "    print(\"2. Open '03_data_analysis.ipynb' to analyze results\")\n",
    "    print(\"3. Open '04_visualization_examples.ipynb' for plotting\")\n",
    "    \n",
    "except ImportError as e:\n",
    "    print(f\"❌ Import failed: {e}\")\n",
    "    print(\"📁 Please upload the simulation files first\")\n",
    "    print(\"🔗 Or follow the GitHub cloning instructions above\")"
   ]
  },
  {
   "cell_type": "markdown",
   "metadata": {
    "id": "troubleshooting_header"
   },
   "source": [
    "## 🔧 Troubleshooting\n",
    "\n",
    "### Common Issues:\n",
    "\n",
    "**Display Issues:**\n",
    "- Restart runtime and re-run the display setup\n",
    "- Check if Xvfb is properly installed\n",
    "\n",
    "**Import Errors:**\n",
    "- Ensure all simulation files are uploaded\n",
    "- Check Python path configuration\n",
    "- Verify file structure matches expected layout\n",
    "\n",
    "**Performance Issues:**\n",
    "- Use shorter simulation durations\n",
    "- Reduce screenshot capture frequency\n",
    "- Consider using Colab Pro for better resources\n",
    "\n",
    "### Getting Help:\n",
    "- Check the main project documentation\n",
    "- Review the example notebooks\n",
    "- Open an issue on GitHub"
   ]
  },
  {
   "cell_type": "markdown",
   "metadata": {
    "id": "conclusion_header"
   },
   "source": [
    "## 🎉 Conclusion\n",
    "\n",
    "You've successfully set up the AV Simulation environment on Google Colab! \n",
    "\n",
    "### What's Ready:\n",
    "✅ Virtual display for GUI applications  \n",
    "✅ Python environment with all dependencies  \n",
    "✅ Project structure and helper functions  \n",
    "✅ Screenshot capture capabilities  \n",
    "✅ Data collection system  \n",
    "\n",
    "### Next Steps:\n",
    "1. **Upload Simulation Files** - Clone from GitHub or upload manually\n",
    "2. **Run Simulations** - Use the next notebook to start collecting data\n",
    "3. **Analyze Results** - Explore the data analysis notebooks\n",
    "4. **Create Visualizations** - Generate plots and insights\n",
    "\n",
    "---\n",
    "\n",
    "**Happy Simulating! 🚗💨**\n",
    "\n",
    "Move on to: **[02_simulation_runner.ipynb](02_simulation_runner.ipynb)**"
   ]
  }
 ],
 "metadata": {
  "colab": {
   "provenance": [],
   "toc_visible": true
  },
  "kernelspec": {
   "display_name": "Python 3",
   "language": "python",
   "name": "python3"
  },
  "language_info": {
   "codemirror_mode": {
    "name": "ipython",
    "version": 3
   },
   "file_extension": ".py",
   "mimetype": "text/x-python",
   "name": "python",
   "nbconvert_exporter": "python",
   "pygments_lexer": "ipython3",
   "version": "3.8.10"
  }
 },
 "nbformat": 4,
 "nbformat_minor": 4
}